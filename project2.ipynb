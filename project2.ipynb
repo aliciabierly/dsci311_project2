{
 "cells": [
  {
   "cell_type": "markdown",
   "metadata": {},
   "source": [
    "## Project 2: US National Park Species Data\n",
    "### Alicia Bierly"
   ]
  },
  {
   "cell_type": "markdown",
   "metadata": {},
   "source": [
    "1. The dataset I’m working with consists of two tables. The first table provides general information on all national parks, including details like longitude, latitude, name, state, and park name. The second table contains data on species present in each park, such as category, family, common name, scientific name, nativeness, abundance, and other attributes.\n",
    "\n",
    "2. Source: https://www.kaggle.com/datasets/nationalparkservice/park-biodiversity/data\n",
    "\n",
    "3. I’m interested in this dataset because I want to examine the abundance of invasive species across U.S. national parks and identify patterns and recurring instances. I plan to compare native versus nonnative species and explore the types of species found in specific areas and ecosystems. Additionally, I aim to investigate which animals are classified under various conservation statuses. I also chose this dataset because I'm taking BIO 213 this term and thought it would be a good opportunity to apply ecology and evolutionary concepts I'm learning about to the project."
   ]
  },
  {
   "cell_type": "code",
   "execution_count": 1,
   "metadata": {},
   "outputs": [
    {
     "name": "stderr",
     "output_type": "stream",
     "text": [
      "/var/folders/gz/wbvdwhws46d1kjxt_rfffkc00000gn/T/ipykernel_20683/1696735380.py:10: DtypeWarning: Columns (13) have mixed types. Specify dtype option on import or set low_memory=False.\n",
      "  species = pd.read_csv(file_path_species)\n"
     ]
    },
    {
     "data": {
      "text/html": [
       "<div>\n",
       "<style scoped>\n",
       "    .dataframe tbody tr th:only-of-type {\n",
       "        vertical-align: middle;\n",
       "    }\n",
       "\n",
       "    .dataframe tbody tr th {\n",
       "        vertical-align: top;\n",
       "    }\n",
       "\n",
       "    .dataframe thead th {\n",
       "        text-align: right;\n",
       "    }\n",
       "</style>\n",
       "<table border=\"1\" class=\"dataframe\">\n",
       "  <thead>\n",
       "    <tr style=\"text-align: right;\">\n",
       "      <th></th>\n",
       "      <th>Park Code</th>\n",
       "      <th>Park Name</th>\n",
       "      <th>State</th>\n",
       "      <th>Acres</th>\n",
       "      <th>Latitude</th>\n",
       "      <th>Longitude</th>\n",
       "    </tr>\n",
       "  </thead>\n",
       "  <tbody>\n",
       "    <tr>\n",
       "      <th>0</th>\n",
       "      <td>ACAD</td>\n",
       "      <td>Acadia National Park</td>\n",
       "      <td>ME</td>\n",
       "      <td>47390</td>\n",
       "      <td>44.35</td>\n",
       "      <td>-68.21</td>\n",
       "    </tr>\n",
       "    <tr>\n",
       "      <th>1</th>\n",
       "      <td>ARCH</td>\n",
       "      <td>Arches National Park</td>\n",
       "      <td>UT</td>\n",
       "      <td>76519</td>\n",
       "      <td>38.68</td>\n",
       "      <td>-109.57</td>\n",
       "    </tr>\n",
       "    <tr>\n",
       "      <th>2</th>\n",
       "      <td>BADL</td>\n",
       "      <td>Badlands National Park</td>\n",
       "      <td>SD</td>\n",
       "      <td>242756</td>\n",
       "      <td>43.75</td>\n",
       "      <td>-102.50</td>\n",
       "    </tr>\n",
       "    <tr>\n",
       "      <th>3</th>\n",
       "      <td>BIBE</td>\n",
       "      <td>Big Bend National Park</td>\n",
       "      <td>TX</td>\n",
       "      <td>801163</td>\n",
       "      <td>29.25</td>\n",
       "      <td>-103.25</td>\n",
       "    </tr>\n",
       "    <tr>\n",
       "      <th>4</th>\n",
       "      <td>BISC</td>\n",
       "      <td>Biscayne National Park</td>\n",
       "      <td>FL</td>\n",
       "      <td>172924</td>\n",
       "      <td>25.65</td>\n",
       "      <td>-80.08</td>\n",
       "    </tr>\n",
       "  </tbody>\n",
       "</table>\n",
       "</div>"
      ],
      "text/plain": [
       "  Park Code               Park Name State   Acres  Latitude  Longitude\n",
       "0      ACAD    Acadia National Park    ME   47390     44.35     -68.21\n",
       "1      ARCH    Arches National Park    UT   76519     38.68    -109.57\n",
       "2      BADL  Badlands National Park    SD  242756     43.75    -102.50\n",
       "3      BIBE  Big Bend National Park    TX  801163     29.25    -103.25\n",
       "4      BISC  Biscayne National Park    FL  172924     25.65     -80.08"
      ]
     },
     "metadata": {},
     "output_type": "display_data"
    },
    {
     "data": {
      "text/html": [
       "<div>\n",
       "<style scoped>\n",
       "    .dataframe tbody tr th:only-of-type {\n",
       "        vertical-align: middle;\n",
       "    }\n",
       "\n",
       "    .dataframe tbody tr th {\n",
       "        vertical-align: top;\n",
       "    }\n",
       "\n",
       "    .dataframe thead th {\n",
       "        text-align: right;\n",
       "    }\n",
       "</style>\n",
       "<table border=\"1\" class=\"dataframe\">\n",
       "  <thead>\n",
       "    <tr style=\"text-align: right;\">\n",
       "      <th></th>\n",
       "      <th>Species ID</th>\n",
       "      <th>Park Name</th>\n",
       "      <th>Category</th>\n",
       "      <th>Order</th>\n",
       "      <th>Family</th>\n",
       "      <th>Scientific Name</th>\n",
       "      <th>Common Names</th>\n",
       "      <th>Record Status</th>\n",
       "      <th>Occurrence</th>\n",
       "      <th>Nativeness</th>\n",
       "      <th>Abundance</th>\n",
       "      <th>Seasonality</th>\n",
       "      <th>Conservation Status</th>\n",
       "      <th>Unnamed: 13</th>\n",
       "    </tr>\n",
       "  </thead>\n",
       "  <tbody>\n",
       "    <tr>\n",
       "      <th>0</th>\n",
       "      <td>ACAD-1000</td>\n",
       "      <td>Acadia National Park</td>\n",
       "      <td>Mammal</td>\n",
       "      <td>Artiodactyla</td>\n",
       "      <td>Cervidae</td>\n",
       "      <td>Alces alces</td>\n",
       "      <td>Moose</td>\n",
       "      <td>Approved</td>\n",
       "      <td>Present</td>\n",
       "      <td>Native</td>\n",
       "      <td>Rare</td>\n",
       "      <td>Resident</td>\n",
       "      <td>NaN</td>\n",
       "      <td>NaN</td>\n",
       "    </tr>\n",
       "    <tr>\n",
       "      <th>1</th>\n",
       "      <td>ACAD-1001</td>\n",
       "      <td>Acadia National Park</td>\n",
       "      <td>Mammal</td>\n",
       "      <td>Artiodactyla</td>\n",
       "      <td>Cervidae</td>\n",
       "      <td>Odocoileus virginianus</td>\n",
       "      <td>Northern White-Tailed Deer, Virginia Deer, Whi...</td>\n",
       "      <td>Approved</td>\n",
       "      <td>Present</td>\n",
       "      <td>Native</td>\n",
       "      <td>Abundant</td>\n",
       "      <td>NaN</td>\n",
       "      <td>NaN</td>\n",
       "      <td>NaN</td>\n",
       "    </tr>\n",
       "    <tr>\n",
       "      <th>2</th>\n",
       "      <td>ACAD-1002</td>\n",
       "      <td>Acadia National Park</td>\n",
       "      <td>Mammal</td>\n",
       "      <td>Carnivora</td>\n",
       "      <td>Canidae</td>\n",
       "      <td>Canis latrans</td>\n",
       "      <td>Coyote, Eastern Coyote</td>\n",
       "      <td>Approved</td>\n",
       "      <td>Present</td>\n",
       "      <td>Not Native</td>\n",
       "      <td>Common</td>\n",
       "      <td>NaN</td>\n",
       "      <td>Species of Concern</td>\n",
       "      <td>NaN</td>\n",
       "    </tr>\n",
       "    <tr>\n",
       "      <th>3</th>\n",
       "      <td>ACAD-1003</td>\n",
       "      <td>Acadia National Park</td>\n",
       "      <td>Mammal</td>\n",
       "      <td>Carnivora</td>\n",
       "      <td>Canidae</td>\n",
       "      <td>Canis lupus</td>\n",
       "      <td>Eastern Timber Wolf, Gray Wolf, Timber Wolf</td>\n",
       "      <td>Approved</td>\n",
       "      <td>Not Confirmed</td>\n",
       "      <td>Native</td>\n",
       "      <td>NaN</td>\n",
       "      <td>NaN</td>\n",
       "      <td>Endangered</td>\n",
       "      <td>NaN</td>\n",
       "    </tr>\n",
       "    <tr>\n",
       "      <th>4</th>\n",
       "      <td>ACAD-1004</td>\n",
       "      <td>Acadia National Park</td>\n",
       "      <td>Mammal</td>\n",
       "      <td>Carnivora</td>\n",
       "      <td>Canidae</td>\n",
       "      <td>Vulpes vulpes</td>\n",
       "      <td>Black Fox, Cross Fox, Eastern Red Fox, Fox, Re...</td>\n",
       "      <td>Approved</td>\n",
       "      <td>Present</td>\n",
       "      <td>Unknown</td>\n",
       "      <td>Common</td>\n",
       "      <td>Breeder</td>\n",
       "      <td>NaN</td>\n",
       "      <td>NaN</td>\n",
       "    </tr>\n",
       "  </tbody>\n",
       "</table>\n",
       "</div>"
      ],
      "text/plain": [
       "  Species ID             Park Name Category         Order    Family  \\\n",
       "0  ACAD-1000  Acadia National Park   Mammal  Artiodactyla  Cervidae   \n",
       "1  ACAD-1001  Acadia National Park   Mammal  Artiodactyla  Cervidae   \n",
       "2  ACAD-1002  Acadia National Park   Mammal     Carnivora   Canidae   \n",
       "3  ACAD-1003  Acadia National Park   Mammal     Carnivora   Canidae   \n",
       "4  ACAD-1004  Acadia National Park   Mammal     Carnivora   Canidae   \n",
       "\n",
       "          Scientific Name                                       Common Names  \\\n",
       "0             Alces alces                                              Moose   \n",
       "1  Odocoileus virginianus  Northern White-Tailed Deer, Virginia Deer, Whi...   \n",
       "2           Canis latrans                             Coyote, Eastern Coyote   \n",
       "3             Canis lupus        Eastern Timber Wolf, Gray Wolf, Timber Wolf   \n",
       "4           Vulpes vulpes  Black Fox, Cross Fox, Eastern Red Fox, Fox, Re...   \n",
       "\n",
       "  Record Status     Occurrence  Nativeness Abundance Seasonality  \\\n",
       "0      Approved        Present      Native      Rare    Resident   \n",
       "1      Approved        Present      Native  Abundant         NaN   \n",
       "2      Approved        Present  Not Native    Common         NaN   \n",
       "3      Approved  Not Confirmed      Native       NaN         NaN   \n",
       "4      Approved        Present     Unknown    Common     Breeder   \n",
       "\n",
       "  Conservation Status Unnamed: 13  \n",
       "0                 NaN         NaN  \n",
       "1                 NaN         NaN  \n",
       "2  Species of Concern         NaN  \n",
       "3          Endangered         NaN  \n",
       "4                 NaN         NaN  "
      ]
     },
     "metadata": {},
     "output_type": "display_data"
    }
   ],
   "source": [
    "import pandas as pd\n",
    "import numpy as np\n",
    "import seaborn as sns\n",
    "import matplotlib as plt\n",
    "\n",
    "file_path_parks = 'national_parks/parks.csv'\n",
    "parks = pd.read_csv(file_path_parks)\n",
    "\n",
    "file_path_species = 'national_parks/species.csv'\n",
    "species = pd.read_csv(file_path_species)\n",
    "\n",
    "display(parks.head(5))\n",
    "display(species.head(5))"
   ]
  },
  {
   "cell_type": "markdown",
   "metadata": {},
   "source": [
    "### Exploring Non-Native Species Found in Natural Parks"
   ]
  },
  {
   "cell_type": "code",
   "execution_count": 2,
   "metadata": {},
   "outputs": [
    {
     "data": {
      "text/plain": [
       "<Axes: xlabel='Count', ylabel='Category'>"
      ]
     },
     "execution_count": 2,
     "metadata": {},
     "output_type": "execute_result"
    },
    {
     "data": {
      "image/png": "[encoded data removed]",
      "text/plain": [
       "<Figure size 640x480 with 1 Axes>"
      ]
     },
     "metadata": {},
     "output_type": "display_data"
    }
   ],
   "source": [
    "sns.histplot(y = species[species[\"Nativeness\"] != \"Not Native\"][\"Category\"])#.unique()"
   ]
  },
  {
   "cell_type": "markdown",
   "metadata": {},
   "source": [
    "### Looking at Specific Vascular Plant Species"
   ]
  },
  {
   "cell_type": "code",
   "execution_count": 4,
   "metadata": {},
   "outputs": [
    {
     "data": {
      "text/plain": [
       "<Axes: xlabel='Count', ylabel='Common Names'>"
      ]
     },
     "execution_count": 4,
     "metadata": {},
     "output_type": "execute_result"
    },
    {
     "data": {
      "image/png": "[encoded data removed]",
      "text/plain": [
       "<Figure size 640x480 with 1 Axes>"
      ]
     },
     "metadata": {},
     "output_type": "display_data"
    }
   ],
   "source": [
    "#sns.histplot(\n",
    "counts = species[(species[\"Nativeness\"] == \"Not Native\") & (species[\"Category\"] == \"Vascular Plant\")].groupby(\"Common Names\").size()#.reset_index(species[\"Common Names\"]))\n",
    "counts = pd.DataFrame({\"Common Names\": counts.index, \"Count\": counts.values}).sort_values(by=\"Count\", ascending=False).head(5)\n",
    "sns.barplot(data=counts, y='Common Names', x='Count')"
   ]
  }
 ],
 "metadata": {
  "kernelspec": {
   "display_name": "base",
   "language": "python",
   "name": "python3"
  },
  "language_info": {
   "codemirror_mode": {
    "name": "ipython",
    "version": 3
   },
   "file_extension": ".py",
   "mimetype": "text/x-python",
   "name": "python",
   "nbconvert_exporter": "python",
   "pygments_lexer": "ipython3",
   "version": "3.11.5"
  }
 },
 "nbformat": 4,
 "nbformat_minor": 2
}
